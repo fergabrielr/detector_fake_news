{
  "nbformat": 4,
  "nbformat_minor": 0,
  "metadata": {
    "colab": {
      "name": "criacao_modelo.ipynb",
      "provenance": [],
      "authorship_tag": "ABX9TyPKBDm7tfClmUSYTciux3Nv"
    },
    "kernelspec": {
      "name": "python3",
      "display_name": "Python 3"
    }
  },
  "cells": [
    {
      "cell_type": "markdown",
      "metadata": {
        "id": "4jthPSDC7JEf",
        "colab_type": "text"
      },
      "source": [
        ""
      ]
    },
    {
      "cell_type": "code",
      "metadata": {
        "id": "vIn-hy1x7HS0",
        "colab_type": "code",
        "outputId": "ce558c51-8256-428d-c63d-fc3035af4427",
        "colab": {
          "base_uri": "https://localhost:8080/",
          "height": 51
        }
      },
      "source": [
        "import nltk\n",
        "nltk.download('stopwords')\n",
        "from sklearn.model_selection import train_test_split\n",
        "from sklearn.feature_extraction.text import TfidfVectorizer\n",
        "from sklearn.linear_model import PassiveAggressiveClassifier\n",
        "from sklearn.metrics import accuracy_score, confusion_matrix\n",
        "from lightgbm import LGBMClassifier\n",
        "from nltk.corpus import stopwords\n",
        "from sklearn.ensemble import RandomForestClassifier\n",
        "import pandas as pd\n",
        "import numpy as np\n",
        "import urllib3"
      ],
      "execution_count": 2,
      "outputs": [
        {
          "output_type": "stream",
          "text": [
            "[nltk_data] Downloading package stopwords to /root/nltk_data...\n",
            "[nltk_data]   Package stopwords is already up-to-date!\n"
          ],
          "name": "stdout"
        }
      ]
    },
    {
      "cell_type": "markdown",
      "metadata": {
        "id": "6ybhsUzMrTwc",
        "colab_type": "text"
      },
      "source": [
        "Os dados utilizados de noticias são do remositório [Fake.br-Corpus](https://github.com/roneysco/Fake.br-Corpu). São vários arquivos de texto com as notícias separados em diretórios diferentes, marcados como 'fake' e 'true' disponibilizados no GitHub. Exemplo do conteúdo de um arquivo:"
      ]
    },
    {
      "cell_type": "code",
      "metadata": {
        "id": "b3PeD9it7Y5h",
        "colab_type": "code",
        "outputId": "52db658c-f024-402d-a426-d91b8b31d2f6",
        "colab": {
          "base_uri": "https://localhost:8080/",
          "height": 258
        }
      },
      "source": [
        "http = urllib3.PoolManager() # PoolManager\n",
        "urllib3.disable_warnings(urllib3.exceptions.InsecureRequestWarning) # Desabilitando avisos\n",
        "url = \"https://raw.githubusercontent.com/roneysco/Fake.br-Corpus/master/full_texts/fake/%d.txt\" % 1 # URL da notícia\n",
        "r = http.request('GET', url) # Copiando notícia\n",
        "print(r.data.decode('utf-8')) # Print com o texto decodificado"
      ],
      "execution_count": 3,
      "outputs": [
        {
          "output_type": "stream",
          "text": [
            "Kátia Abreu diz que vai colocar sua expulsão em uma moldura, mas não para de reclamar.\t\r\n",
            "\r\n",
            "A senadora Kátia Abreu (sem partido-TO) disse que sua expulsão do PMDB foi resultado de uma ação da cúpula atual da legenda que, segundo ela, é oportunista.\r\n",
            "\r\n",
            "“Amanhã eu vou botar numa moldura dourada a minha expulsão, porque das mãos de onde veio, é um atestado de boa conduta para o meu currículo. Essas pessoas que me expulsaram não servem ao país. Eles se servem do país em seus benefícios próprios”, disse Kátia Abreu.\r\n",
            "\r\n",
            "Ué, mas se a expulsão é algo tão bom para seu currículo, por que tanta choradeira, Kátia?\r\n",
            "\r\n",
            "Sabemos o motivo. Provavelmente Kátia não tem valor para o PT, partido que já deveria tê-la absorvido. Ao que parece o PT gostava de Kátia somente se ela ficasse entrincheirada dentro do PMDB.\r\n",
            "\r\n",
            "Ou seja, isso é se rebaixar demais. Resta a Kátia ficar chorando as pitangas por todos os cantos.\r\n",
            "\r\n",
            "Em tempo: até o momento o PT não cadastrou Kátia Abreu em suas fileiras. Que situação patética para a ex-ministra da Agricultura de Dilma.\n"
          ],
          "name": "stdout"
        }
      ]
    },
    {
      "cell_type": "markdown",
      "metadata": {
        "id": "jf-whJr7vOmU",
        "colab_type": "text"
      },
      "source": [
        "É criado um dataframe do pandas."
      ]
    },
    {
      "cell_type": "code",
      "metadata": {
        "id": "5rT9MGGmLpFW",
        "colab_type": "code",
        "colab": {}
      },
      "source": [
        "df = pd.DataFrame(columns = ['noticia', 'label'])"
      ],
      "execution_count": 0,
      "outputs": []
    },
    {
      "cell_type": "markdown",
      "metadata": {
        "id": "csn3FJ4rvWcL",
        "colab_type": "text"
      },
      "source": [
        "Adicionando as notícias ao dataframe (são 3600 notícias fake e 3600 notícias reais):"
      ]
    },
    {
      "cell_type": "code",
      "metadata": {
        "id": "sdF1wOGQd7aO",
        "colab_type": "code",
        "colab": {}
      },
      "source": [
        "for i in range(1, 3601):\n",
        "  url = \"https://raw.githubusercontent.com/roneysco/Fake.br-Corpus/master/full_texts/fake/%d.txt\" % i # URL da notícia\n",
        "  r = http.request('GET', url) # Copiando notícia\n",
        "  noticia = pd.DataFrame([[r.data.decode('utf-8'), 'fake']], columns = ['noticia', 'label'])\n",
        "  df = df.append(noticia, ignore_index=True)\n",
        "\n",
        "for i in range(1, 3601):\n",
        "  url = \"https://raw.githubusercontent.com/roneysco/Fake.br-Corpus/master/full_texts/true/%d.txt\" % i # URL da notícia\n",
        "  r = http.request('GET', url) # Copiando notícia\n",
        "  noticia = pd.DataFrame([[r.data.decode('utf-8'), 'true']], columns = ['noticia', 'label'])\n",
        "  df = df.append(noticia, ignore_index=True)"
      ],
      "execution_count": 0,
      "outputs": []
    },
    {
      "cell_type": "markdown",
      "metadata": {
        "id": "ef_ZtQAvRm5-",
        "colab_type": "text"
      },
      "source": [
        "Início do data-frame"
      ]
    },
    {
      "cell_type": "code",
      "metadata": {
        "id": "J4IivE2bfBhw",
        "colab_type": "code",
        "outputId": "70d8a22e-d0c6-4702-da8e-8994c851e42c",
        "colab": {
          "base_uri": "https://localhost:8080/",
          "height": 204
        }
      },
      "source": [
        "df.head()"
      ],
      "execution_count": 6,
      "outputs": [
        {
          "output_type": "execute_result",
          "data": {
            "text/html": [
              "<div>\n",
              "<style scoped>\n",
              "    .dataframe tbody tr th:only-of-type {\n",
              "        vertical-align: middle;\n",
              "    }\n",
              "\n",
              "    .dataframe tbody tr th {\n",
              "        vertical-align: top;\n",
              "    }\n",
              "\n",
              "    .dataframe thead th {\n",
              "        text-align: right;\n",
              "    }\n",
              "</style>\n",
              "<table border=\"1\" class=\"dataframe\">\n",
              "  <thead>\n",
              "    <tr style=\"text-align: right;\">\n",
              "      <th></th>\n",
              "      <th>noticia</th>\n",
              "      <th>label</th>\n",
              "    </tr>\n",
              "  </thead>\n",
              "  <tbody>\n",
              "    <tr>\n",
              "      <th>0</th>\n",
              "      <td>Kátia Abreu diz que vai colocar sua expulsão e...</td>\n",
              "      <td>fake</td>\n",
              "    </tr>\n",
              "    <tr>\n",
              "      <th>1</th>\n",
              "      <td>Blog esquerdista dá a entender que reclamar de...</td>\n",
              "      <td>fake</td>\n",
              "    </tr>\n",
              "    <tr>\n",
              "      <th>2</th>\n",
              "      <td>Alckmin diz que por ele PSDB desembarca, mas...</td>\n",
              "      <td>fake</td>\n",
              "    </tr>\n",
              "    <tr>\n",
              "      <th>3</th>\n",
              "      <td>Cara de pau não tem limites: Zé Celso aciona M...</td>\n",
              "      <td>fake</td>\n",
              "    </tr>\n",
              "    <tr>\n",
              "      <th>4</th>\n",
              "      <td>Temer resolve o problema de Luislinda: liberd...</td>\n",
              "      <td>fake</td>\n",
              "    </tr>\n",
              "  </tbody>\n",
              "</table>\n",
              "</div>"
            ],
            "text/plain": [
              "                                             noticia label\n",
              "0  Kátia Abreu diz que vai colocar sua expulsão e...  fake\n",
              "1  Blog esquerdista dá a entender que reclamar de...  fake\n",
              "2  Alckmin diz que por ele PSDB desembarca, mas...  fake\n",
              "3  Cara de pau não tem limites: Zé Celso aciona M...  fake\n",
              "4  Temer resolve o problema de Luislinda: liberd...  fake"
            ]
          },
          "metadata": {
            "tags": []
          },
          "execution_count": 6
        }
      ]
    },
    {
      "cell_type": "markdown",
      "metadata": {
        "id": "Atfd7erSRppW",
        "colab_type": "text"
      },
      "source": [
        "Final do dataframe"
      ]
    },
    {
      "cell_type": "code",
      "metadata": {
        "id": "Se3pBqlCRuOw",
        "colab_type": "code",
        "outputId": "0a487c77-8202-4f19-dbe3-68bb673f3095",
        "colab": {
          "base_uri": "https://localhost:8080/",
          "height": 204
        }
      },
      "source": [
        "df.tail()"
      ],
      "execution_count": 7,
      "outputs": [
        {
          "output_type": "execute_result",
          "data": {
            "text/html": [
              "<div>\n",
              "<style scoped>\n",
              "    .dataframe tbody tr th:only-of-type {\n",
              "        vertical-align: middle;\n",
              "    }\n",
              "\n",
              "    .dataframe tbody tr th {\n",
              "        vertical-align: top;\n",
              "    }\n",
              "\n",
              "    .dataframe thead th {\n",
              "        text-align: right;\n",
              "    }\n",
              "</style>\n",
              "<table border=\"1\" class=\"dataframe\">\n",
              "  <thead>\n",
              "    <tr style=\"text-align: right;\">\n",
              "      <th></th>\n",
              "      <th>noticia</th>\n",
              "      <th>label</th>\n",
              "    </tr>\n",
              "  </thead>\n",
              "  <tbody>\n",
              "    <tr>\n",
              "      <th>7195</th>\n",
              "      <td>Ficou longe das notícias no fim de ano? Veja o...</td>\n",
              "      <td>true</td>\n",
              "    </tr>\n",
              "    <tr>\n",
              "      <th>7196</th>\n",
              "      <td>A nova denúncia contra o ex-presidente Luiz I...</td>\n",
              "      <td>true</td>\n",
              "    </tr>\n",
              "    <tr>\n",
              "      <th>7197</th>\n",
              "      <td>Como a Bahia virou uma potência mundial do mar...</td>\n",
              "      <td>true</td>\n",
              "    </tr>\n",
              "    <tr>\n",
              "      <th>7198</th>\n",
              "      <td>Alvo da Lava Jato, Bendine tinha passagem comp...</td>\n",
              "      <td>true</td>\n",
              "    </tr>\n",
              "    <tr>\n",
              "      <th>7199</th>\n",
              "      <td>Chefs convidados do Encontro Mundial das Cidad...</td>\n",
              "      <td>true</td>\n",
              "    </tr>\n",
              "  </tbody>\n",
              "</table>\n",
              "</div>"
            ],
            "text/plain": [
              "                                                noticia label\n",
              "7195  Ficou longe das notícias no fim de ano? Veja o...  true\n",
              "7196   A nova denúncia contra o ex-presidente Luiz I...  true\n",
              "7197  Como a Bahia virou uma potência mundial do mar...  true\n",
              "7198  Alvo da Lava Jato, Bendine tinha passagem comp...  true\n",
              "7199  Chefs convidados do Encontro Mundial das Cidad...  true"
            ]
          },
          "metadata": {
            "tags": []
          },
          "execution_count": 7
        }
      ]
    },
    {
      "cell_type": "code",
      "metadata": {
        "id": "98hq5BivR12Z",
        "colab_type": "code",
        "colab": {}
      },
      "source": [
        "df2 = pd.read_csv('https://raw.githubusercontent.com/ViniciusNunes0/SIRENE-news/master/noticias-sirene.csv', sep=';')\n",
        "df2 = df2[['noticia', 'classificacao']]\n",
        "df2 = df2.rename(columns={\"noticia\": \"noticia\", \"classificacao\": \"label\"})\n",
        "df2['label'] = df2['label'].replace({0: 'true', 1: 'fake'})\n",
        "df2.head()\n",
        "df = df.append(df2, ignore_index=True)"
      ],
      "execution_count": 0,
      "outputs": []
    },
    {
      "cell_type": "code",
      "metadata": {
        "id": "pW7Hl1JYWY7Z",
        "colab_type": "code",
        "colab": {}
      },
      "source": [
        "x_train,x_test,y_train,y_test=train_test_split(df['noticia'], df['label'], test_size=0.2, random_state=42)"
      ],
      "execution_count": 0,
      "outputs": []
    },
    {
      "cell_type": "code",
      "metadata": {
        "id": "icpR4CqqPo_q",
        "colab_type": "code",
        "colab": {}
      },
      "source": [
        "tfidf_vectorizer = TfidfVectorizer(stop_words=stopwords.words('portuguese'),\n",
        "                                analyzer='word',\n",
        "                                ngram_range=(1, 1),\n",
        "                                lowercase=True,\n",
        "                                use_idf=True)"
      ],
      "execution_count": 0,
      "outputs": []
    },
    {
      "cell_type": "code",
      "metadata": {
        "id": "nsqTTABYVbXw",
        "colab_type": "code",
        "colab": {}
      },
      "source": [
        "tfidf_train = tfidf_vectorizer.fit_transform(x_train) \n",
        "tfidf_test = tfidf_vectorizer.transform(x_test)"
      ],
      "execution_count": 0,
      "outputs": []
    },
    {
      "cell_type": "code",
      "metadata": {
        "id": "sKJn-tSpW5sq",
        "colab_type": "code",
        "outputId": "93c40f50-ff44-44de-b6d6-8779fd95e369",
        "colab": {
          "base_uri": "https://localhost:8080/",
          "height": 34
        }
      },
      "source": [
        "pac = PassiveAggressiveClassifier(max_iter=50, random_state=0)\n",
        "pac.fit(tfidf_train,y_train)\n",
        "\n",
        "y_pred = pac.predict(tfidf_test)\n",
        "score = accuracy_score(y_test,y_pred)\n",
        "print(f'Accuracy: {round(score*100,2)}%')"
      ],
      "execution_count": 27,
      "outputs": [
        {
          "output_type": "stream",
          "text": [
            "Accuracy: 96.69%\n"
          ],
          "name": "stdout"
        }
      ]
    },
    {
      "cell_type": "code",
      "metadata": {
        "id": "bYaoliPDXSPi",
        "colab_type": "code",
        "outputId": "96718e2c-74da-444d-faa1-2afb6eee6106",
        "colab": {
          "base_uri": "https://localhost:8080/",
          "height": 34
        }
      },
      "source": [
        "rf = RandomForestClassifier(random_state=0)\n",
        "rf.fit(tfidf_train,y_train)\n",
        "\n",
        "y_pred = rf.predict(tfidf_test)\n",
        "score = accuracy_score(y_test,y_pred)\n",
        "print(f'Accuracy: {round(score*100,2)}%')"
      ],
      "execution_count": 28,
      "outputs": [
        {
          "output_type": "stream",
          "text": [
            "Accuracy: 93.93%\n"
          ],
          "name": "stdout"
        }
      ]
    },
    {
      "cell_type": "code",
      "metadata": {
        "id": "autzEbHOZu2X",
        "colab_type": "code",
        "outputId": "69f2593c-7912-412b-92e9-078a4e89005b",
        "colab": {
          "base_uri": "https://localhost:8080/",
          "height": 34
        }
      },
      "source": [
        "lgbm = LGBMClassifier(learning_rate=0.1,\n",
        "                      num_leaves=128,\n",
        "                      min_child_samples=100,\n",
        "                      ubsample=0.96,\n",
        "                      colsample_bytree=0.28,\n",
        "                      random_state=0,\n",
        "                      subsample_freq=1,\n",
        "                      n_estimators=100)\n",
        "lgbm.fit(tfidf_train,y_train)\n",
        "\n",
        "y_pred = lgbm.predict(tfidf_test)\n",
        "score = accuracy_score(y_test,y_pred)\n",
        "print(f'Accuracy: {round(score*100,2)}%')"
      ],
      "execution_count": 41,
      "outputs": [
        {
          "output_type": "stream",
          "text": [
            "Accuracy: 96.4%\n"
          ],
          "name": "stdout"
        }
      ]
    },
    {
      "cell_type": "code",
      "metadata": {
        "id": "ao-ezBqha969",
        "colab_type": "code",
        "outputId": "b7685968-c66e-4a36-d86b-5bee879713c0",
        "colab": {
          "base_uri": "https://localhost:8080/",
          "height": 241
        }
      },
      "source": [
        "!pip install scikit-optimize\n",
        "from skopt import dummy_minimize"
      ],
      "execution_count": 30,
      "outputs": [
        {
          "output_type": "stream",
          "text": [
            "Collecting scikit-optimize\n",
            "\u001b[?25l  Downloading https://files.pythonhosted.org/packages/4f/cf/b4aee828215a882495f7696ac85f8c1ecc0275923a18fecbb109ceaca651/scikit_optimize-0.7.2-py2.py3-none-any.whl (80kB)\n",
            "\r\u001b[K     |████                            | 10kB 17.6MB/s eta 0:00:01\r\u001b[K     |████████▏                       | 20kB 1.8MB/s eta 0:00:01\r\u001b[K     |████████████▎                   | 30kB 2.7MB/s eta 0:00:01\r\u001b[K     |████████████████▍               | 40kB 1.8MB/s eta 0:00:01\r\u001b[K     |████████████████████▍           | 51kB 2.2MB/s eta 0:00:01\r\u001b[K     |████████████████████████▌       | 61kB 2.6MB/s eta 0:00:01\r\u001b[K     |████████████████████████████▋   | 71kB 3.0MB/s eta 0:00:01\r\u001b[K     |████████████████████████████████| 81kB 2.5MB/s \n",
            "\u001b[?25hRequirement already satisfied: joblib in /usr/local/lib/python3.6/dist-packages (from scikit-optimize) (0.14.1)\n",
            "Collecting pyaml\n",
            "  Downloading https://files.pythonhosted.org/packages/35/1e/eda9fe07f752ced7afcef590e7d74390f0d9c9c0b7ff98317afbaa0697e3/pyaml-19.12.0-py2.py3-none-any.whl\n",
            "Requirement already satisfied: scikit-learn>=0.19.1 in /usr/local/lib/python3.6/dist-packages (from scikit-optimize) (0.22.1)\n",
            "Requirement already satisfied: scipy>=0.14.0 in /usr/local/lib/python3.6/dist-packages (from scikit-optimize) (1.4.1)\n",
            "Requirement already satisfied: numpy in /usr/local/lib/python3.6/dist-packages (from scikit-optimize) (1.17.5)\n",
            "Requirement already satisfied: PyYAML in /usr/local/lib/python3.6/dist-packages (from pyaml->scikit-optimize) (3.13)\n",
            "Installing collected packages: pyaml, scikit-optimize\n",
            "Successfully installed pyaml-19.12.0 scikit-optimize-0.7.2\n"
          ],
          "name": "stdout"
        }
      ]
    },
    {
      "cell_type": "code",
      "metadata": {
        "id": "R03aEkyicZLv",
        "colab_type": "code",
        "colab": {}
      },
      "source": [
        "def treinar_modelo(params):\n",
        "    learning_rate = params[0]\n",
        "    num_leaves = params[1]\n",
        "    min_child_samples = params[2]\n",
        "    subsample = params[3]\n",
        "    colsample_bytree = params[4]\n",
        "    \n",
        "    print(params, '\\n')\n",
        "    \n",
        "    mdl = LGBMClassifier(learning_rate=learning_rate,\n",
        "                         num_leaves=num_leaves,\n",
        "                         min_child_samples=min_child_samples,\n",
        "                         subsample=subsample,\n",
        "                         colsample_bytree=colsample_bytree,\n",
        "                         random_state=0,\n",
        "                         subsample_freq=1,\n",
        "                         n_estimators=100)\n",
        "    mdl.fit(tfidf_train,y_train)\n",
        "    \n",
        "    y_pred = mdl.predict(tfidf_test)\n",
        "    \n",
        "    return -accuracy_score(y_test,y_pred)"
      ],
      "execution_count": 0,
      "outputs": []
    },
    {
      "cell_type": "code",
      "metadata": {
        "id": "0-O_3_kAdsNH",
        "colab_type": "code",
        "outputId": "cff5ded1-c549-4672-d82a-4b944c77747e",
        "colab": {
          "base_uri": "https://localhost:8080/",
          "height": 1000
        }
      },
      "source": [
        "space = [(1e-3, 1e-1, 'log-uniform'), #learning rate\n",
        "         (2, 128), # num_leaves\n",
        "         (1, 100), # min_child_samples\n",
        "         (0.05, 1.0), # subsample\n",
        "         (0.1, 1.0)] # colsample bytree\n",
        "\n",
        "resultado = dummy_minimize(treinar_modelo, space, random_state=1, verbose=1, n_calls=30)"
      ],
      "execution_count": 32,
      "outputs": [
        {
          "output_type": "stream",
          "text": [
            "Iteration No: 1 started. Evaluating function at random point.\n",
            "[0.09871192514273254, 74, 10, 0.3372159440002478, 0.23208030173540176] \n",
            "\n",
            "Iteration No: 1 ended. Evaluation done at random point.\n",
            "Time taken: 24.9603\n",
            "Function value obtained: -0.9539\n",
            "Current minimum: -0.9539\n",
            "Iteration No: 2 started. Evaluating function at random point.\n",
            "[0.001529949829431263, 78, 72, 0.3782826906908954, 0.457090726807603] \n",
            "\n",
            "Iteration No: 2 ended. Evaluation done at random point.\n",
            "Time taken: 6.4905\n",
            "Function value obtained: -0.9221\n",
            "Current minimum: -0.9539\n",
            "Iteration No: 3 started. Evaluating function at random point.\n",
            "[0.01195730942971637, 128, 19, 0.5483207515942279, 0.49910760440160107] \n",
            "\n",
            "Iteration No: 3 ended. Evaluation done at random point.\n",
            "Time taken: 37.0118\n",
            "Function value obtained: -0.9338\n",
            "Current minimum: -0.9539\n",
            "Iteration No: 4 started. Evaluating function at random point.\n",
            "[0.0028784217488024557, 16, 51, 0.9182639233502714, 0.5114843271882895] \n",
            "\n",
            "Iteration No: 4 ended. Evaluation done at random point.\n",
            "Time taken: 9.7546\n",
            "Function value obtained: -0.9183\n",
            "Current minimum: -0.9539\n",
            "Iteration No: 5 started. Evaluating function at random point.\n",
            "[0.007267702383040958, 96, 97, 0.7894697745197069, 0.7443734643715278] \n",
            "\n",
            "Iteration No: 5 ended. Evaluation done at random point.\n",
            "Time taken: 12.4704\n",
            "Function value obtained: -0.9146\n",
            "Current minimum: -0.9539\n",
            "Iteration No: 6 started. Evaluating function at random point.\n",
            "[0.04031948793713315, 63, 23, 0.5422449214947946, 0.8785182267810852] \n",
            "\n",
            "Iteration No: 6 ended. Evaluation done at random point.\n",
            "Time taken: 33.8039\n",
            "Function value obtained: -0.9481\n",
            "Current minimum: -0.9539\n",
            "Iteration No: 7 started. Evaluating function at random point.\n",
            "[0.045529597892867466, 90, 14, 0.30939747550591, 0.15331888117140713] \n",
            "\n",
            "Iteration No: 7 ended. Evaluation done at random point.\n",
            "Time taken: 16.3770\n",
            "Function value obtained: -0.9430\n",
            "Current minimum: -0.9539\n",
            "Iteration No: 8 started. Evaluating function at random point.\n",
            "[0.021930881089764206, 73, 4, 0.6880713925510277, 0.47060909107214777] \n",
            "\n",
            "Iteration No: 8 ended. Evaluation done at random point.\n",
            "Time taken: 57.5811\n",
            "Function value obtained: -0.9363\n",
            "Current minimum: -0.9539\n",
            "Iteration No: 9 started. Evaluating function at random point.\n",
            "[0.002483715204721354, 26, 44, 0.7021758812975045, 0.8511631047076357] \n",
            "\n",
            "Iteration No: 9 ended. Evaluation done at random point.\n",
            "Time taken: 14.2743\n",
            "Function value obtained: -0.9091\n",
            "Current minimum: -0.9539\n",
            "Iteration No: 10 started. Evaluating function at random point.\n",
            "[0.0010878688833867167, 43, 83, 0.98941803446117, 0.7733490889418555] \n",
            "\n",
            "Iteration No: 10 ended. Evaluation done at random point.\n",
            "Time taken: 13.6617\n",
            "Function value obtained: -0.9171\n",
            "Current minimum: -0.9539\n",
            "Iteration No: 11 started. Evaluating function at random point.\n",
            "[0.003638211850540798, 89, 8, 0.14806470624875995, 0.5031041735583147] \n",
            "\n",
            "Iteration No: 11 ended. Evaluation done at random point.\n",
            "Time taken: 24.5911\n",
            "Function value obtained: -0.9255\n",
            "Current minimum: -0.9539\n",
            "Iteration No: 12 started. Evaluating function at random point.\n",
            "[0.06564339077069616, 105, 24, 0.163515944581681, 0.572319439183401] \n",
            "\n",
            "Iteration No: 12 ended. Evaluation done at random point.\n",
            "Time taken: 12.0019\n",
            "Function value obtained: -0.9502\n",
            "Current minimum: -0.9539\n",
            "Iteration No: 13 started. Evaluating function at random point.\n",
            "[0.0014697585967435188, 40, 9, 0.9149259627034465, 0.36903710098874454] \n",
            "\n",
            "Iteration No: 13 ended. Evaluation done at random point.\n",
            "Time taken: 25.5028\n",
            "Function value obtained: -0.9313\n",
            "Current minimum: -0.9539\n",
            "Iteration No: 14 started. Evaluating function at random point.\n",
            "[0.014749532034944692, 89, 26, 0.633241401906253, 0.9608820910034701] \n",
            "\n",
            "Iteration No: 14 ended. Evaluation done at random point.\n",
            "Time taken: 41.3526\n",
            "Function value obtained: -0.9234\n",
            "Current minimum: -0.9539\n",
            "Iteration No: 15 started. Evaluating function at random point.\n",
            "[0.0033262735259356143, 34, 89, 0.5567760660749166, 0.9549443246793757] \n",
            "\n",
            "Iteration No: 15 ended. Evaluation done at random point.\n",
            "Time taken: 9.7227\n",
            "Function value obtained: -0.8957\n",
            "Current minimum: -0.9539\n",
            "Iteration No: 16 started. Evaluating function at random point.\n",
            "[0.009685436253688836, 2, 78, 0.09307844214592059, 0.225969507272543] \n",
            "\n",
            "Iteration No: 16 ended. Evaluation done at random point.\n",
            "Time taken: 1.7682\n",
            "Function value obtained: -0.8932\n",
            "Current minimum: -0.9539\n",
            "Iteration No: 17 started. Evaluating function at random point.\n",
            "[0.03844210597293627, 93, 22, 0.8889692020284521, 0.5867093706408683] \n",
            "\n",
            "Iteration No: 17 ended. Evaluation done at random point.\n",
            "Time taken: 42.2379\n",
            "Function value obtained: -0.9435\n",
            "Current minimum: -0.9539\n",
            "Iteration No: 18 started. Evaluating function at random point.\n",
            "[0.00786973960931508, 45, 21, 0.40870512409353993, 0.5845822248519866] \n",
            "\n",
            "Iteration No: 18 ended. Evaluation done at random point.\n",
            "Time taken: 17.2985\n",
            "Function value obtained: -0.9284\n",
            "Current minimum: -0.9539\n",
            "Iteration No: 19 started. Evaluating function at random point.\n",
            "[0.020164978538544195, 59, 83, 0.6559446598566927, 0.2136833965403995] \n",
            "\n",
            "Iteration No: 19 ended. Evaluation done at random point.\n",
            "Time taken: 7.6264\n",
            "Function value obtained: -0.9317\n",
            "Current minimum: -0.9539\n",
            "Iteration No: 20 started. Evaluating function at random point.\n",
            "[0.024010940718920456, 9, 25, 0.3814534248789504, 0.3429351025885235] \n",
            "\n",
            "Iteration No: 20 ended. Evaluation done at random point.\n",
            "Time taken: 6.8313\n",
            "Function value obtained: -0.9246\n",
            "Current minimum: -0.9539\n",
            "Iteration No: 21 started. Evaluating function at random point.\n",
            "[0.061911658253265375, 96, 61, 0.9665980447909663, 0.6970973480366033] \n",
            "\n",
            "Iteration No: 21 ended. Evaluation done at random point.\n",
            "Time taken: 28.6212\n",
            "Function value obtained: -0.9523\n",
            "Current minimum: -0.9539\n",
            "Iteration No: 22 started. Evaluating function at random point.\n",
            "[0.01751424579956557, 110, 93, 0.9520147957717178, 0.5049209201319466] \n",
            "\n",
            "Iteration No: 22 ended. Evaluation done at random point.\n",
            "Time taken: 13.6599\n",
            "Function value obtained: -0.9292\n",
            "Current minimum: -0.9539\n",
            "Iteration No: 23 started. Evaluating function at random point.\n",
            "[0.014347598955915168, 84, 87, 0.27517563123087635, 0.9130415685060285] \n",
            "\n",
            "Iteration No: 23 ended. Evaluation done at random point.\n",
            "Time taken: 5.5491\n",
            "Function value obtained: -0.9116\n",
            "Current minimum: -0.9539\n",
            "Iteration No: 24 started. Evaluating function at random point.\n",
            "[0.014039737029591284, 17, 6, 0.6362876679396877, 0.3939804115948866] \n",
            "\n",
            "Iteration No: 24 ended. Evaluation done at random point.\n",
            "Time taken: 17.6811\n",
            "Function value obtained: -0.9309\n",
            "Current minimum: -0.9539\n",
            "Iteration No: 25 started. Evaluating function at random point.\n",
            "[0.011327034010293172, 103, 14, 0.3894062720023748, 0.9176816358278194] \n",
            "\n",
            "Iteration No: 25 ended. Evaluation done at random point.\n",
            "Time taken: 47.1847\n",
            "Function value obtained: -0.9250\n",
            "Current minimum: -0.9539\n",
            "Iteration No: 26 started. Evaluating function at random point.\n",
            "[0.017649005221070314, 98, 56, 0.9329653720565734, 0.7218072257652316] \n",
            "\n",
            "Iteration No: 26 ended. Evaluation done at random point.\n",
            "Time taken: 27.0328\n",
            "Function value obtained: -0.9259\n",
            "Current minimum: -0.9539\n",
            "Iteration No: 27 started. Evaluating function at random point.\n",
            "[0.09877469581360704, 123, 84, 0.18027896214743389, 0.9393359167334473] \n",
            "\n",
            "Iteration No: 27 ended. Evaluation done at random point.\n",
            "Time taken: 4.9769\n",
            "Function value obtained: -0.9477\n",
            "Current minimum: -0.9539\n",
            "Iteration No: 28 started. Evaluating function at random point.\n",
            "[0.024753483395116363, 45, 7, 0.7676898999723432, 0.7784885696151218] \n",
            "\n",
            "Iteration No: 28 ended. Evaluation done at random point.\n",
            "Time taken: 46.1493\n",
            "Function value obtained: -0.9313\n",
            "Current minimum: -0.9539\n",
            "Iteration No: 29 started. Evaluating function at random point.\n",
            "[0.07015345605895347, 11, 67, 0.16805741387355647, 0.11789212045581604] \n",
            "\n",
            "Iteration No: 29 ended. Evaluation done at random point.\n",
            "Time taken: 2.7115\n",
            "Function value obtained: -0.9330\n",
            "Current minimum: -0.9539\n",
            "Iteration No: 30 started. Evaluating function at random point.\n",
            "[0.0011282932078263237, 23, 41, 0.28390051422289364, 0.8740251538145993] \n",
            "\n",
            "Iteration No: 30 ended. Evaluation done at random point.\n",
            "Time taken: 9.1497\n",
            "Function value obtained: -0.9079\n",
            "Current minimum: -0.9539\n"
          ],
          "name": "stdout"
        }
      ]
    },
    {
      "cell_type": "code",
      "metadata": {
        "id": "NCL_4ZgReNlD",
        "colab_type": "code",
        "outputId": "be6b9a6b-211d-44de-ad40-840a54facc8d",
        "colab": {
          "base_uri": "https://localhost:8080/",
          "height": 34
        }
      },
      "source": [
        "resultado.x"
      ],
      "execution_count": 35,
      "outputs": [
        {
          "output_type": "execute_result",
          "data": {
            "text/plain": [
              "[0.09871192514273254, 74, 10, 0.3372159440002478, 0.23208030173540176]"
            ]
          },
          "metadata": {
            "tags": []
          },
          "execution_count": 35
        }
      ]
    },
    {
      "cell_type": "code",
      "metadata": {
        "id": "wD_1NDukjBdV",
        "colab_type": "code",
        "colab": {}
      },
      "source": [
        "from skopt import gp_minimize"
      ],
      "execution_count": 0,
      "outputs": []
    },
    {
      "cell_type": "code",
      "metadata": {
        "id": "VNdiYhKJj7yB",
        "colab_type": "code",
        "outputId": "34e67026-279d-444d-cfaf-2f123137c3fd",
        "colab": {
          "base_uri": "https://localhost:8080/",
          "height": 1000
        }
      },
      "source": [
        "resultados_gp = gp_minimize(treinar_modelo, space, random_state=1, verbose=1, n_calls=50, n_random_starts=10)"
      ],
      "execution_count": 37,
      "outputs": [
        {
          "output_type": "stream",
          "text": [
            "Iteration No: 1 started. Evaluating function at random point.\n",
            "[0.09871192514273254, 120, 14, 0.9990884895579377, 0.3124800792567785] \n",
            "\n",
            "Iteration No: 1 ended. Evaluation done at random point.\n",
            "Time taken: 49.8891\n",
            "Function value obtained: -0.9598\n",
            "Current minimum: -0.9598\n",
            "Iteration No: 2 started. Evaluating function at random point.\n",
            "[0.006210998932353835, 51, 67, 0.9387621172657304, 0.8616798250174156] \n",
            "\n",
            "Iteration No: 2 ended. Evaluation done at random point.\n",
            "Time taken: 17.2649\n",
            "Function value obtained: -0.9121\n",
            "Current minimum: -0.9598\n",
            "Iteration No: 3 started. Evaluating function at random point.\n",
            "[0.004232013397179603, 68, 45, 0.2680983530433343, 0.5809725180523154] \n",
            "\n",
            "Iteration No: 3 ended. Evaluation done at random point.\n",
            "Time taken: 8.6664\n",
            "Function value obtained: -0.9200\n",
            "Current minimum: -0.9598\n",
            "Iteration No: 4 started. Evaluating function at random point.\n",
            "[0.0672858974212934, 60, 44, 0.9421713999524447, 0.8005503127028804] \n",
            "\n",
            "Iteration No: 4 ended. Evaluation done at random point.\n",
            "Time taken: 32.4960\n",
            "Function value obtained: -0.9556\n",
            "Current minimum: -0.9598\n",
            "Iteration No: 5 started. Evaluating function at random point.\n",
            "[0.027035912483147396, 103, 10, 0.5422449214947946, 0.8785182267810853] \n",
            "\n",
            "Iteration No: 5 ended. Evaluation done at random point.\n",
            "Time taken: 62.7098\n",
            "Function value obtained: -0.9397\n",
            "Current minimum: -0.9598\n",
            "Iteration No: 6 started. Evaluating function at random point.\n",
            "[0.045529597892867466, 107, 28, 0.1062810412364853, 0.7034752360620511] \n",
            "\n",
            "Iteration No: 6 ended. Evaluation done at random point.\n",
            "Time taken: 7.4884\n",
            "Function value obtained: -0.9401\n",
            "Current minimum: -0.9598\n",
            "Iteration No: 7 started. Evaluating function at random point.\n",
            "[0.01535080081765723, 87, 42, 0.23767335308554222, 0.3606666764912312] \n",
            "\n",
            "Iteration No: 7 ended. Evaluation done at random point.\n",
            "Time taken: 7.3549\n",
            "Function value obtained: -0.9276\n",
            "Current minimum: -0.9598\n",
            "Iteration No: 8 started. Evaluating function at random point.\n",
            "[0.0019241559628256106, 101, 42, 0.0824627456265471, 0.661626987829618] \n",
            "\n",
            "Iteration No: 8 ended. Evaluation done at random point.\n",
            "Time taken: 4.0012\n",
            "Function value obtained: -0.9008\n",
            "Current minimum: -0.9598\n",
            "Iteration No: 9 started. Evaluating function at random point.\n",
            "[0.02095421812724112, 40, 45, 0.2610183201586061, 0.16602775456833962] \n",
            "\n",
            "Iteration No: 9 ended. Evaluation done at random point.\n",
            "Time taken: 5.6642\n",
            "Function value obtained: -0.9284\n",
            "Current minimum: -0.9598\n",
            "Iteration No: 10 started. Evaluating function at random point.\n",
            "[0.008679147174590262, 14, 90, 0.163515944581681, 0.5723194391834011] \n",
            "\n",
            "Iteration No: 10 ended. Evaluation done at random point.\n",
            "Time taken: 3.3876\n",
            "Function value obtained: -0.9049\n",
            "Current minimum: -0.9598\n",
            "Iteration No: 11 started. Searching for the next optimal point.\n",
            "[0.1, 2, 1, 1.0, 0.1] \n",
            "\n",
            "Iteration No: 11 ended. Search finished for the next optimal point.\n",
            "Time taken: 8.1544\n",
            "Function value obtained: -0.9204\n",
            "Current minimum: -0.9598\n",
            "Iteration No: 12 started. Searching for the next optimal point.\n",
            "[0.1, 82, 100, 1.0, 0.1] \n",
            "\n",
            "Iteration No: 12 ended. Search finished for the next optimal point.\n",
            "Time taken: 9.7585\n",
            "Function value obtained: -0.9573\n",
            "Current minimum: -0.9598\n",
            "Iteration No: 13 started. Searching for the next optimal point.\n",
            "[0.1, 128, 100, 1.0, 1.0] \n",
            "\n",
            "Iteration No: 13 ended. Search finished for the next optimal point.\n",
            "Time taken: 26.9558\n",
            "Function value obtained: -0.9598\n",
            "Current minimum: -0.9598\n",
            "Iteration No: 14 started. Searching for the next optimal point.\n",
            "[0.1, 87, 1, 0.05, 1.0] \n",
            "\n",
            "Iteration No: 14 ended. Search finished for the next optimal point.\n",
            "Time taken: 69.4241\n",
            "Function value obtained: -0.7647\n",
            "Current minimum: -0.9598\n",
            "Iteration No: 15 started. Searching for the next optimal point.\n",
            "[0.1, 128, 17, 0.6791405330341167, 0.36978260724986156] \n",
            "\n",
            "Iteration No: 15 ended. Search finished for the next optimal point.\n",
            "Time taken: 47.4743\n",
            "Function value obtained: -0.9581\n",
            "Current minimum: -0.9598\n",
            "Iteration No: 16 started. Searching for the next optimal point.\n",
            "[0.1, 128, 100, 0.9562060254291818, 0.2826514395863122] \n",
            "\n",
            "Iteration No: 16 ended. Search finished for the next optimal point.\n",
            "Time taken: 13.6883\n",
            "Function value obtained: -0.9619\n",
            "Current minimum: -0.9619\n",
            "Iteration No: 17 started. Searching for the next optimal point.\n",
            "[0.1, 128, 16, 0.7170517565581257, 0.7192043907505543] \n",
            "\n",
            "Iteration No: 17 ended. Search finished for the next optimal point.\n",
            "Time taken: 69.0674\n",
            "Function value obtained: -0.9552\n",
            "Current minimum: -0.9619\n",
            "Iteration No: 18 started. Searching for the next optimal point.\n",
            "[0.001, 2, 18, 1.0, 0.1] \n",
            "\n",
            "Iteration No: 18 ended. Search finished for the next optimal point.\n",
            "Time taken: 3.5221\n",
            "Function value obtained: -0.9091\n",
            "Current minimum: -0.9619\n",
            "Iteration No: 19 started. Searching for the next optimal point.\n",
            "[0.001, 128, 100, 0.6126979403477888, 1.0] \n",
            "\n",
            "Iteration No: 19 ended. Search finished for the next optimal point.\n",
            "Time taken: 11.6402\n",
            "Function value obtained: -0.8819\n",
            "Current minimum: -0.9619\n",
            "Iteration No: 20 started. Searching for the next optimal point.\n",
            "[0.029872145925565766, 2, 24, 0.804947178555389, 0.1] \n",
            "\n",
            "Iteration No: 20 ended. Search finished for the next optimal point.\n",
            "Time taken: 3.4398\n",
            "Function value obtained: -0.9079\n",
            "Current minimum: -0.9619\n",
            "Iteration No: 21 started. Searching for the next optimal point.\n",
            "[0.1, 128, 4, 0.05, 0.1] \n",
            "\n",
            "Iteration No: 21 ended. Search finished for the next optimal point.\n",
            "Time taken: 13.1276\n",
            "Function value obtained: -0.7186\n",
            "Current minimum: -0.9619\n",
            "Iteration No: 22 started. Searching for the next optimal point.\n",
            "[0.1, 46, 69, 0.05, 0.27886906080963625] \n",
            "\n",
            "Iteration No: 22 ended. Search finished for the next optimal point.\n",
            "Time taken: 2.7451\n",
            "Function value obtained: -0.9259\n",
            "Current minimum: -0.9619\n",
            "Iteration No: 23 started. Searching for the next optimal point.\n",
            "[0.1, 128, 10, 0.9667024841699353, 0.6580246295842597] \n",
            "\n",
            "Iteration No: 23 ended. Search finished for the next optimal point.\n",
            "Time taken: 86.3331\n",
            "Function value obtained: -0.9527\n",
            "Current minimum: -0.9619\n",
            "Iteration No: 24 started. Searching for the next optimal point.\n",
            "[0.1, 128, 85, 1.0, 1.0] \n",
            "\n",
            "Iteration No: 24 ended. Search finished for the next optimal point.\n",
            "Time taken: 31.6482\n",
            "Function value obtained: -0.9577\n",
            "Current minimum: -0.9619\n",
            "Iteration No: 25 started. Searching for the next optimal point.\n",
            "[0.1, 128, 29, 0.47229873092084085, 1.0] \n",
            "\n",
            "Iteration No: 25 ended. Search finished for the next optimal point.\n",
            "Time taken: 49.9670\n",
            "Function value obtained: -0.9573\n",
            "Current minimum: -0.9619\n",
            "Iteration No: 26 started. Searching for the next optimal point.\n",
            "[0.001, 128, 36, 1.0, 0.1] \n",
            "\n",
            "Iteration No: 26 ended. Search finished for the next optimal point.\n",
            "Time taken: 19.9594\n",
            "Function value obtained: -0.9188\n",
            "Current minimum: -0.9619\n",
            "Iteration No: 27 started. Searching for the next optimal point.\n",
            "[0.1, 128, 47, 1.0, 1.0] \n",
            "\n",
            "Iteration No: 27 ended. Search finished for the next optimal point.\n",
            "Time taken: 52.3109\n",
            "Function value obtained: -0.9598\n",
            "Current minimum: -0.9619\n",
            "Iteration No: 28 started. Searching for the next optimal point.\n",
            "[0.1, 128, 51, 0.690163518775476, 0.1] \n",
            "\n",
            "Iteration No: 28 ended. Search finished for the next optimal point.\n",
            "Time taken: 15.3943\n",
            "Function value obtained: -0.9573\n",
            "Current minimum: -0.9619\n",
            "Iteration No: 29 started. Searching for the next optimal point.\n",
            "[0.1, 128, 78, 0.5821641489959132, 0.1] \n",
            "\n",
            "Iteration No: 29 ended. Search finished for the next optimal point.\n",
            "Time taken: 8.3819\n",
            "Function value obtained: -0.9539\n",
            "Current minimum: -0.9619\n",
            "Iteration No: 30 started. Searching for the next optimal point.\n",
            "[0.1, 128, 61, 0.46493671909185036, 1.0] \n",
            "\n",
            "Iteration No: 30 ended. Search finished for the next optimal point.\n",
            "Time taken: 21.6823\n",
            "Function value obtained: -0.9548\n",
            "Current minimum: -0.9619\n",
            "Iteration No: 31 started. Searching for the next optimal point.\n",
            "[0.07065505099416787, 94, 21, 0.6579886820786071, 1.0] \n",
            "\n",
            "Iteration No: 31 ended. Search finished for the next optimal point.\n",
            "Time taken: 59.9456\n",
            "Function value obtained: -0.9548\n",
            "Current minimum: -0.9619\n",
            "Iteration No: 32 started. Searching for the next optimal point.\n",
            "[0.1, 128, 91, 1.0, 0.1] \n",
            "\n",
            "Iteration No: 32 ended. Search finished for the next optimal point.\n",
            "Time taken: 11.7756\n",
            "Function value obtained: -0.9581\n",
            "Current minimum: -0.9619\n",
            "Iteration No: 33 started. Searching for the next optimal point.\n",
            "[0.1, 128, 47, 0.694258025221401, 1.0] \n",
            "\n",
            "Iteration No: 33 ended. Search finished for the next optimal point.\n",
            "Time taken: 42.6876\n",
            "Function value obtained: -0.9611\n",
            "Current minimum: -0.9619\n",
            "Iteration No: 34 started. Searching for the next optimal point.\n",
            "[0.001, 74, 100, 0.6290011906343209, 0.6851071876283265] \n",
            "\n",
            "Iteration No: 34 ended. Search finished for the next optimal point.\n",
            "Time taken: 9.7367\n",
            "Function value obtained: -0.9129\n",
            "Current minimum: -0.9619\n",
            "Iteration No: 35 started. Searching for the next optimal point.\n",
            "[0.1, 2, 100, 0.6882574895687902, 1.0] \n",
            "\n",
            "Iteration No: 35 ended. Search finished for the next optimal point.\n",
            "Time taken: 3.6897\n",
            "Function value obtained: -0.9154\n",
            "Current minimum: -0.9619\n",
            "Iteration No: 36 started. Searching for the next optimal point.\n",
            "[0.001, 104, 1, 1.0, 0.1] \n",
            "\n",
            "Iteration No: 36 ended. Search finished for the next optimal point.\n",
            "Time taken: 61.9762\n",
            "Function value obtained: -0.9112\n",
            "Current minimum: -0.9619\n",
            "Iteration No: 37 started. Searching for the next optimal point.\n",
            "[0.1, 2, 94, 1.0, 0.7579423824962375] \n",
            "\n",
            "Iteration No: 37 ended. Search finished for the next optimal point.\n",
            "Time taken: 3.4479\n",
            "Function value obtained: -0.9158\n",
            "Current minimum: -0.9619\n",
            "Iteration No: 38 started. Searching for the next optimal point.\n",
            "[0.001, 2, 22, 0.05, 1.0] \n",
            "\n",
            "Iteration No: 38 ended. Search finished for the next optimal point.\n",
            "Time taken: 4.0558\n",
            "Function value obtained: -0.7961\n",
            "Current minimum: -0.9619\n",
            "Iteration No: 39 started. Searching for the next optimal point.\n",
            "[0.1, 128, 100, 0.2872896736759894, 0.6469028700861311] \n",
            "\n",
            "Iteration No: 39 ended. Search finished for the next optimal point.\n",
            "Time taken: 6.1838\n",
            "Function value obtained: -0.9489\n",
            "Current minimum: -0.9619\n",
            "Iteration No: 40 started. Searching for the next optimal point.\n",
            "[0.1, 29, 100, 0.35649852215840644, 0.32166956996010443] \n",
            "\n",
            "Iteration No: 40 ended. Search finished for the next optimal point.\n",
            "Time taken: 6.0237\n",
            "Function value obtained: -0.9539\n",
            "Current minimum: -0.9619\n",
            "Iteration No: 41 started. Searching for the next optimal point.\n",
            "[0.1, 64, 100, 0.7550429345651503, 0.5484507122183814] \n",
            "\n",
            "Iteration No: 41 ended. Search finished for the next optimal point.\n",
            "Time taken: 14.4771\n",
            "Function value obtained: -0.9585\n",
            "Current minimum: -0.9619\n",
            "Iteration No: 42 started. Searching for the next optimal point.\n",
            "[0.1, 94, 100, 0.6230200199744601, 0.2416758362492999] \n",
            "\n",
            "Iteration No: 42 ended. Search finished for the next optimal point.\n",
            "Time taken: 8.5844\n",
            "Function value obtained: -0.9539\n",
            "Current minimum: -0.9619\n",
            "Iteration No: 43 started. Searching for the next optimal point.\n",
            "[0.1, 85, 1, 0.8192871244331369, 0.7900859342771712] \n",
            "\n",
            "Iteration No: 43 ended. Search finished for the next optimal point.\n",
            "Time taken: 177.0017\n",
            "Function value obtained: -0.9552\n",
            "Current minimum: -0.9619\n",
            "Iteration No: 44 started. Searching for the next optimal point.\n",
            "[0.1, 2, 1, 0.13948477404147397, 0.32121755739313207] \n",
            "\n",
            "Iteration No: 44 ended. Search finished for the next optimal point.\n",
            "Time taken: 9.0142\n",
            "Function value obtained: -0.9158\n",
            "Current minimum: -0.9619\n",
            "Iteration No: 45 started. Searching for the next optimal point.\n",
            "[0.1, 68, 100, 0.4328201718060503, 0.45193645904272195] \n",
            "\n",
            "Iteration No: 45 ended. Search finished for the next optimal point.\n",
            "Time taken: 7.8458\n",
            "Function value obtained: -0.9518\n",
            "Current minimum: -0.9619\n",
            "Iteration No: 46 started. Searching for the next optimal point.\n",
            "[0.1, 77, 10, 0.7664855205658347, 0.1] \n",
            "\n",
            "Iteration No: 46 ended. Search finished for the next optimal point.\n",
            "Time taken: 26.3770\n",
            "Function value obtained: -0.9535\n",
            "Current minimum: -0.9619\n",
            "Iteration No: 47 started. Searching for the next optimal point.\n",
            "[0.0824998168892209, 7, 100, 0.10888942866593732, 1.0] \n",
            "\n",
            "Iteration No: 47 ended. Search finished for the next optimal point.\n",
            "Time taken: 3.5684\n",
            "Function value obtained: -0.9330\n",
            "Current minimum: -0.9619\n",
            "Iteration No: 48 started. Searching for the next optimal point.\n",
            "[0.03908723990709154, 110, 100, 0.23667895805629796, 0.9426636175495662] \n",
            "\n",
            "Iteration No: 48 ended. Search finished for the next optimal point.\n",
            "Time taken: 5.3322\n",
            "Function value obtained: -0.9288\n",
            "Current minimum: -0.9619\n",
            "Iteration No: 49 started. Searching for the next optimal point.\n",
            "[0.024294875676627584, 128, 100, 1.0, 1.0] \n",
            "\n",
            "Iteration No: 49 ended. Search finished for the next optimal point.\n",
            "Time taken: 20.1392\n",
            "Function value obtained: -0.9271\n",
            "Current minimum: -0.9619\n",
            "Iteration No: 50 started. Searching for the next optimal point.\n",
            "[0.1, 128, 31, 0.9623256999582401, 1.0] \n",
            "\n",
            "Iteration No: 50 ended. Search finished for the next optimal point.\n",
            "Time taken: 65.2303\n",
            "Function value obtained: -0.9569\n",
            "Current minimum: -0.9619\n"
          ],
          "name": "stdout"
        }
      ]
    },
    {
      "cell_type": "code",
      "metadata": {
        "id": "e2k-068skHdl",
        "colab_type": "code",
        "colab": {
          "base_uri": "https://localhost:8080/",
          "height": 34
        },
        "outputId": "fcd6c7df-4d99-4fe4-86a0-80ded88b9402"
      },
      "source": [
        "resultados_gp.x"
      ],
      "execution_count": 39,
      "outputs": [
        {
          "output_type": "execute_result",
          "data": {
            "text/plain": [
              "[0.1, 128, 100, 0.9562060254291818, 0.2826514395863122]"
            ]
          },
          "metadata": {
            "tags": []
          },
          "execution_count": 39
        }
      ]
    },
    {
      "cell_type": "code",
      "metadata": {
        "id": "qgzgRX4_nkaZ",
        "colab_type": "code",
        "colab": {}
      },
      "source": [
        "[0.1, 23, 51, 0.8039348617451548, 0.34702698317511055] "
      ],
      "execution_count": 0,
      "outputs": []
    }
  ]
}